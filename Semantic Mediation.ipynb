{
 "cells": [
  {
   "cell_type": "code",
   "execution_count": 19,
   "metadata": {},
   "outputs": [],
   "source": [
    "% matplotlib inline\n",
    "\n",
    "import numpy as np\n",
    "import matplotlib.pyplot as plt\n",
    "\n",
    "import os\n",
    "import pickle as pkl\n",
    "\n",
    "from utils import sqrtm, bures, MI_dist, MK_dist, KR_dist, fidelity, MI_fidelity, MK_fidelity"
   ]
  },
  {
   "cell_type": "code",
   "execution_count": 7,
   "metadata": {},
   "outputs": [],
   "source": [
    "PATH_ELL = \"/Users/boris/Documents/These/Donnees/Elliptical_Embeddings\""
   ]
  },
  {
   "cell_type": "markdown",
   "metadata": {},
   "source": [
    "### Data loading"
   ]
  },
  {
   "cell_type": "code",
   "execution_count": 12,
   "metadata": {},
   "outputs": [],
   "source": [
    "data = np.load(os.path.join(PATH_ELL, \"embeddings_5\"), allow_pickle = True)\n",
    "\n",
    "means = data[\"c_means\"]\n",
    "vars = data[\"c_vars\"]"
   ]
  },
  {
   "cell_type": "code",
   "execution_count": 13,
   "metadata": {},
   "outputs": [],
   "source": [
    "with open(os.path.join(PATH_ELL, 'words_to_idxs.pkl'), 'rb') as f:\n",
    "    u = pkl._Unpickler(f)\n",
    "    u.encoding = 'latin1'\n",
    "    words_to_idxs = u.load()"
   ]
  },
  {
   "cell_type": "code",
   "execution_count": 14,
   "metadata": {},
   "outputs": [],
   "source": [
    "with open(os.path.join(PATH_ELL, 'vocab_words.pkl'), 'rb') as f:\n",
    "    u = pkl._Unpickler(f)\n",
    "    u.encoding = 'latin1'\n",
    "    idxs_to_words_dict = u.load()\n",
    "    \n",
    "idxs_to_words = np.empty(len(data[\"c_means\"]), dtype = object)\n",
    "\n",
    "for i in range(len(means)):\n",
    "    idxs_to_words[i] = idxs_to_words_dict[i]"
   ]
  },
  {
   "cell_type": "code",
   "execution_count": 18,
   "metadata": {},
   "outputs": [],
   "source": [
    "### Let's restrict our vocabulary to the 10K most frequent words ###\n",
    "n = 30000\n",
    "\n",
    "means_30K = means[1:n+1]\n",
    "vars_30K = vars[1:n+1]\n",
    "\n",
    "idxs_to_words_30K = idxs_to_words[1:n+1]"
   ]
  },
  {
   "cell_type": "code",
   "execution_count": 16,
   "metadata": {},
   "outputs": [],
   "source": [
    "del data"
   ]
  },
  {
   "cell_type": "markdown",
   "metadata": {},
   "source": [
    "### KNN functions"
   ]
  },
  {
   "cell_type": "code",
   "execution_count": 34,
   "metadata": {},
   "outputs": [],
   "source": [
    "def KNN(word, means, vars, k=10, metric='bures', use_means = True,\n",
    "        renorm = True, words_to_idxs = words_to_idxs,\n",
    "        idxs_to_words = idxs_to_words_30K):\n",
    "  \n",
    "    n = len(means)\n",
    "    widx = words_to_idxs[word] - 1\n",
    "    \n",
    "    if renorm:\n",
    "        vars_renorm = vars / np.sqrt(np.trace(vars, axis1=1, axis2=2))[:, None, None]\n",
    "        means_renorm = means / np.sqrt((means**2).sum(axis = 1))[:, None]\n",
    "    else:\n",
    "        vars_renorm = vars\n",
    "        means_renorm = means\n",
    "\n",
    "    mu = means_renorm[widx]\n",
    "    sigma = vars_renorm[widx]\n",
    "\n",
    "    if metric == 'bures':\n",
    "        dists = np.array([((mu - means_renorm[i])**2).sum() * use_means + bures(sigma, vars_renorm[i]) for i in range(n)])\n",
    "    idxs = np.argsort(dists)[:k]\n",
    "\n",
    "    #return(idxs_to_words[idxs+1])\n",
    "    return(idxs_to_words[idxs])\n",
    "        \n",
    "def mediated_KNN(word, reference, means, vars, k=20, d = 4, metric='MK', use_means = False, \n",
    "                 renorm = True, words_to_idxs = words_to_idxs,\n",
    "                 idxs_to_words = idxs_to_words_30K):\n",
    "    \n",
    "    n = len(means)\n",
    "    widx = words_to_idxs[word] - 1\n",
    "    refidx = words_to_idxs[reference] - 1\n",
    "    \n",
    "    if renorm:\n",
    "        vars_renorm = vars / np.sqrt(np.trace(vars, axis1=1, axis2=2))[:, None, None]\n",
    "        means_renorm = means / np.sqrt((means**2).sum(axis = 1))[:, None]\n",
    "    else:\n",
    "        vars_renorm = vars\n",
    "        means_renorm = means\n",
    "    \n",
    "    mu = means_renorm[widx]\n",
    "    sigma = vars_renorm[widx]\n",
    "    \n",
    "    mu_ref = means_renorm[refidx]\n",
    "    sigma_ref = vars_renorm[refidx]\n",
    "    \n",
    "    vals, vecs = np.linalg.eigh(sigma_ref)\n",
    "    M = vecs[:, ::-1]\n",
    "    \n",
    "    proj_vars = np.array([M.T.dot(vars_renorm[i]).dot(M) for i in range(n)])\n",
    "    proj_sigma = M.T.dot(sigma).dot(M)\n",
    "    \n",
    "    if metric == 'MI':\n",
    "        dists = np.array([((mu - means_renorm[i])**2).sum() * use_means + MI_dist(proj_sigma, proj_vars[i], d) for i in range(n)])\n",
    "    elif metric == 'MK':\n",
    "        dists = np.array([((mu - means_renorm[i])**2).sum() * use_means + MK_dist(proj_sigma, proj_vars[i], d) for i in range(n)])\n",
    "    \n",
    "    idxs = np.argsort(dists)[:k]\n",
    "    \n",
    "    #return(idxs_to_words[idxs+1])\n",
    "    return(idxs_to_words[idxs])\n",
    "\n",
    "def sym_diff(word, ref1, ref2, means, vars, k=20, d = 4, metric='MK', use_means = False, \n",
    "                 renorm = True, words_to_idxs = words_to_idxs,\n",
    "                 idxs_to_words = idxs_to_words_30K):\n",
    "    \n",
    "    med_knn_1 = mediated_KNN(word, ref1, means, vars, k, d, metric, use_means, \\\n",
    "                             renorm, words_to_idxs, idxs_to_words)\n",
    "    med_knn_2 = mediated_KNN(word, ref2, means, vars, k, d, metric, use_means, \\\n",
    "                             renorm, words_to_idxs, idxs_to_words)\n",
    "\n",
    "    return [w for w in med_knn_1 if w not in med_knn_2], [w for w in med_knn_2 if w not in med_knn_1]\n",
    "    "
   ]
  },
  {
   "cell_type": "markdown",
   "metadata": {},
   "source": [
    "### Experiments"
   ]
  },
  {
   "cell_type": "code",
   "execution_count": 35,
   "metadata": {
    "scrolled": true
   },
   "outputs": [
    {
     "name": "stdout",
     "output_type": "stream",
     "text": [
      "['instrument' 'instruments' 'chromatic' 'harmonics' 'cathode' 'tuning'\n",
      " 'monitor' 'tonal' 'sampler' 'rca' 'watts' 'amps' 'instrumentation'\n",
      " 'synthesizers' 'synthesizer' 'telescope' 'resonant' 'harpsichord'\n",
      " 'tungsten' 'ambient']\n"
     ]
    }
   ],
   "source": [
    "mediated_knn = (mediated_KNN('instrument', 'monitor', means_30K, vars_30K, k = 20, d = 4, metric = 'MK'))\n",
    "print(mediated_knn)"
   ]
  },
  {
   "cell_type": "code",
   "execution_count": 36,
   "metadata": {
    "scrolled": true
   },
   "outputs": [
    {
     "name": "stdout",
     "output_type": "stream",
     "text": [
      "Ref #1 - Ref #2:\n",
      "\n",
      "cathode\n",
      "monitor\n",
      "sampler\n",
      "rca\n",
      "watts\n",
      "instrumentation\n",
      "synthesizers\n",
      "synthesizer\n",
      "telescope\n",
      "ambient\n",
      "\n",
      "Ref #2 - Ref #1:\n",
      "\n",
      "tuned\n",
      "trombone\n",
      "guitar\n",
      "harmonic\n",
      "octave\n",
      "baritone\n",
      "clarinet\n",
      "compositional\n",
      "saxophone\n",
      "virtuoso\n"
     ]
    }
   ],
   "source": [
    "s1, s2 = sym_diff('instrument', 'monitor', 'oboe', means_30K, vars_30K )\n",
    "\n",
    "print(\"Ref #1 - Ref #2:\\n\")\n",
    "\n",
    "for w in s1:\n",
    "    print(w)\n",
    "\n",
    "print(\"\\nRef #2 - Ref #1:\\n\")\n",
    "    \n",
    "for w in s2:\n",
    "    print(w)"
   ]
  },
  {
   "cell_type": "code",
   "execution_count": 37,
   "metadata": {},
   "outputs": [
    {
     "name": "stdout",
     "output_type": "stream",
     "text": [
      "Ref #1 - Ref #2:\n",
      "\n",
      "netscape\n",
      "installer\n",
      "doubleclick\n",
      "burner\n",
      "installs\n",
      "adapter\n",
      "router\n",
      "cpus\n",
      "\n",
      "Ref #2 - Ref #1:\n",
      "\n",
      "screwed\n",
      "recessed\n",
      "rails\n",
      "ceilings\n",
      "tiling\n",
      "upvc\n",
      "profiled\n",
      "roofs\n"
     ]
    }
   ],
   "source": [
    "s1, s2 = sym_diff('windows', 'pc', 'door', means_30K, vars_30K )\n",
    "\n",
    "print(\"Ref #1 - Ref #2:\\n\")\n",
    "\n",
    "for w in s1:\n",
    "    print(w)\n",
    "\n",
    "print(\"\\nRef #2 - Ref #1:\\n\")\n",
    "    \n",
    "for w in s2:\n",
    "    print(w)"
   ]
  },
  {
   "cell_type": "code",
   "execution_count": 38,
   "metadata": {},
   "outputs": [
    {
     "name": "stdout",
     "output_type": "stream",
     "text": [
      "Ref #1 - Ref #2:\n",
      "\n",
      "penny\n",
      "quiz\n",
      "whitman\n",
      "outraged\n",
      "tinker\n",
      "ads\n",
      "keating\n",
      "palin\n",
      "show\n",
      "\n",
      "Ref #2 - Ref #1:\n",
      "\n",
      "panther\n",
      "reintroduced\n",
      "kangaroo\n",
      "harriet\n",
      "fair\n",
      "hedgehog\n",
      "bush\n",
      "paw\n",
      "bunny\n"
     ]
    }
   ],
   "source": [
    "s1, s2 = sym_diff('fox', 'media', 'hedgehog', means_30K, vars_30K )\n",
    "\n",
    "print(\"Ref #1 - Ref #2:\\n\")\n",
    "\n",
    "for w in s1:\n",
    "    print(w)\n",
    "\n",
    "print(\"\\nRef #2 - Ref #1:\\n\")\n",
    "    \n",
    "for w in s2:\n",
    "    print(w)"
   ]
  },
  {
   "cell_type": "code",
   "execution_count": null,
   "metadata": {},
   "outputs": [],
   "source": []
  },
  {
   "cell_type": "code",
   "execution_count": null,
   "metadata": {},
   "outputs": [],
   "source": []
  }
 ],
 "metadata": {
  "kernelspec": {
   "display_name": "Python 3",
   "language": "python",
   "name": "python3"
  },
  "language_info": {
   "codemirror_mode": {
    "name": "ipython",
    "version": 3
   },
   "file_extension": ".py",
   "mimetype": "text/x-python",
   "name": "python",
   "nbconvert_exporter": "python",
   "pygments_lexer": "ipython3",
   "version": "3.6.5"
  }
 },
 "nbformat": 4,
 "nbformat_minor": 2
}
